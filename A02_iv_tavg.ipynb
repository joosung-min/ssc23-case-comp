{
 "cells": [
  {
   "cell_type": "code",
   "execution_count": 2,
   "metadata": {},
   "outputs": [],
   "source": [
    "import numpy as np\n",
    "import pandas as pd\n",
    "import matplotlib.pyplot as plt\n",
    "from datetime import datetime\n",
    "\n",
    "from sklearn.decomposition import PCA\n",
    "from sklearn.preprocessing import MinMaxScaler, StandardScaler, normalize\n",
    "\n",
    "from collections.abc import Mapping\n",
    "import statsmodels.formula.api as smf\n",
    "from linearmodels.iv import IV2SLS, IVGMMCUE\n",
    "\n",
    "import os\n",
    "import multiprocessing as mp\n",
    "\n",
    "os.chdir(\"/home/joosungm/projects/def-lelliott/joosungm/projects/ssc23-case-comp\")"
   ]
  },
  {
   "cell_type": "code",
   "execution_count": 3,
   "metadata": {},
   "outputs": [],
   "source": [
    "prov_short = [\"AB\", \"BC\", \"MB\", \"NB\", \"NL\", \"NS\", \"ON\", \"PE\", \"QC\", \"SK\"]\n",
    "\n",
    "scales = [\"raw_\", \"log_\"]\n",
    "\n",
    "treatments = [\"tmax\", \"tavg\", \"tdiff\"]"
   ]
  },
  {
   "cell_type": "code",
   "execution_count": 4,
   "metadata": {},
   "outputs": [
    {
     "data": {
      "text/plain": [
       "['PC1_lag_3',\n",
       " 'PC2_lag_3',\n",
       " 'PC3_lag_3',\n",
       " 'PC4_lag_3',\n",
       " 'PC5_lag_3',\n",
       " 'log_population',\n",
       " 'year',\n",
       " 'month',\n",
       " 'spring',\n",
       " 'summer',\n",
       " 'fall']"
      ]
     },
     "execution_count": 4,
     "metadata": {},
     "output_type": "execute_result"
    }
   ],
   "source": [
    "treatment = \"tavg\"\n",
    "scale = \"log_\"\n",
    "i_prov = 1 # BC\n",
    "\n",
    "prod_filename = \"./data/user_data/01_iv_analysis/\" + prov_short[i_prov] + \"/prod_temp.csv\"\n",
    "\n",
    "prod_data = pd.read_csv(prod_filename)\n",
    "prod_data = prod_data.rename(columns = {\"Date\":\"date\"})\n",
    "prod_data[\"tdiff\"] = np.abs(prod_data.tmax - prod_data.tmin)\n",
    "prod_data[\"log_population\"] = np.log(prod_data.Population + 1)\n",
    "# prod_data.head()\n",
    "\n",
    "# - load covariates\n",
    "covar_df = pd.read_csv(\"./data/user_data/_covariates/ppi_and_usd_imputed.csv\")\n",
    "# covar_df.head()\n",
    "\n",
    "# - min max scale each column of covar_df\n",
    "from sklearn.preprocessing import MinMaxScaler\n",
    "covar_sub = covar_df.drop(columns = [\"date\", \"year\", \"month\"])\n",
    "covar_scaled = pd.DataFrame(MinMaxScaler().fit_transform(covar_sub), columns = covar_sub.columns)\n",
    "# covar_sub.head()\n",
    "\n",
    "# - apply PCA to covar_scaled\n",
    "n_pca = 5\n",
    "pca = PCA(n_components = n_pca)\n",
    "covar_pca = pca.fit_transform(covar_scaled)\n",
    "covar_pca = pd.DataFrame(covar_pca, columns = [\"PC\"+str(i) for i in range(1, n_pca+1)])\n",
    "\n",
    "# - add date column to covar_pca\n",
    "covar_df = pd.concat([covar_df.loc[:, \"date\"], covar_pca], axis = 1)\n",
    "# covar_df.head()\n",
    "\n",
    "\n",
    "# - left join the covariates to the prod_data by date.\n",
    "full_df = pd.merge(prod_data, covar_df, on='date', how='left')\n",
    "\n",
    "# ppi_covars = [\"PC\"+str(i) for i in range(1, n_pca+1)]\n",
    "ppi_covars = covar_pca.columns.tolist()\n",
    "# ppi_covars\n",
    "# apply lags to ppi_covars\n",
    "lags = 3\n",
    "for lag in range(1, lags+1):\n",
    "    for covar in ppi_covars:\n",
    "        full_df[covar + \"_lag_\" + str(lag)] = full_df[covar].shift(lag)\n",
    "\n",
    "# drop first nlags rows\n",
    "full_df = full_df.dropna()\n",
    "# full_df.head()\n",
    "\n",
    "# Create example data for analysis\n",
    "# - Subset date, lat, long, the covariates, tavg, and production_in_division_X31.33.Manufacturing from full_df\n",
    "# and then rename the column to 'production'\n",
    "prods = prod_data.columns[2:16]\n",
    "\n",
    "i = 9\n",
    "example_prod = prods[i]  # Agriculture, Forestry, Fishing and Hunting & oil and gas extraction\n",
    "temperatures = [\"tavg\", \"tmin\", \"tmax\"]\n",
    "instruments = [\"lat\", \"long\"]\n",
    "\n",
    "eff_modifiers = [s + \"_lag_\"+str(lags) for s in ppi_covars]\n",
    "# eff_modifiers.append(\"Population\")\n",
    "eff_modifiers.append(\"log_population\")\n",
    "com_causes = [\"year\", \"month\"]\n",
    "\n",
    "example_cols = [example_prod] + eff_modifiers + com_causes + temperatures + instruments + [\"date\"]\n",
    "example_df = full_df.loc[:, example_cols].reset_index(drop= True)\n",
    "example_df = example_df.rename(columns = {example_prod:\"production\"})\n",
    "\n",
    "# create log(production) column. First add 1 to all values of production to avoid taking log of 0.\n",
    "example_df.loc[:, \"log_production\"] = np.log(example_df.production + 1)\n",
    "example_df.loc[:, \"tdiff\"] = np.abs(example_df.tmax - example_df.tmin)\n",
    "\n",
    "\n",
    "# plot histogram of log_production\n",
    "# import matplotlib.pyplot as plt\n",
    "# plt.hist(example_df.log_production)\n",
    "# help(np.log)\n",
    "\n",
    "# create columns for the seasons of the year\n",
    "example_df.loc[:, \"spring\"] = (example_df.month.isin([3,4,5])).astype(int)\n",
    "example_df.loc[:, \"summer\"] = (example_df.month.isin([6,7,8])).astype(int)\n",
    "example_df.loc[:, \"fall\"] = (example_df.month.isin([9,10,11])).astype(int)\n",
    "example_df.loc[:, \"winter\"] = (example_df.month.isin([12,1,2])).astype(int)\n",
    "\n",
    "# example_df.head(5)\n",
    "covariates = [s + \"_lag_\"+str(lags) for s in ppi_covars] + [\"log_population\", \"year\", \"month\", \"spring\", \"summer\", \"fall\"]\n",
    "covariates "
   ]
  },
  {
   "cell_type": "code",
   "execution_count": 5,
   "metadata": {},
   "outputs": [
    {
     "name": "stderr",
     "output_type": "stream",
     "text": [
      "/home/joosungm/venvs/py310/lib/python3.10/site-packages/linearmodels/iv/data.py:30: FutureWarning: is_categorical is deprecated and will be removed in a future version. Use is_categorical_dtype instead.\n",
      "  if is_categorical(s):\n",
      "/home/joosungm/venvs/py310/lib/python3.10/site-packages/linearmodels/iv/data.py:30: FutureWarning: is_categorical is deprecated and will be removed in a future version. Use is_categorical_dtype instead.\n",
      "  if is_categorical(s):\n",
      "/home/joosungm/venvs/py310/lib/python3.10/site-packages/linearmodels/iv/data.py:30: FutureWarning: is_categorical is deprecated and will be removed in a future version. Use is_categorical_dtype instead.\n",
      "  if is_categorical(s):\n",
      "/home/joosungm/venvs/py310/lib/python3.10/site-packages/linearmodels/iv/data.py:30: FutureWarning: is_categorical is deprecated and will be removed in a future version. Use is_categorical_dtype instead.\n",
      "  if is_categorical(s):\n"
     ]
    },
    {
     "name": "stdout",
     "output_type": "stream",
     "text": [
      "                                        Model Comparison                                        \n",
      "================================================================================================\n",
      "                                    ols                lat               long               both\n",
      "------------------------------------------------------------------------------------------------\n",
      "Dep. Variable            log_production     log_production     log_production     log_production\n",
      "Estimator                           OLS            IV-2SLS            IV-2SLS            IV-2SLS\n",
      "No. Observations                 141114             141114             141114             141114\n",
      "Cov. Est.                        robust             robust             robust             robust\n",
      "R-squared                        0.9282             0.9182             0.7200             0.9133\n",
      "Adj. R-squared                   0.9282             0.9182             0.7200             0.9133\n",
      "F-statistic                   1.541e+06          1.492e+06          5.146e+05          1.441e+06\n",
      "P-value (F-stat)                 0.0000             0.0000             0.0000             0.0000\n",
      "==================     ================   ================   ================   ================\n",
      "PC1_lag_3                        0.0782             0.0729             0.1025             0.0717\n",
      "                               (39.285)           (34.296)           (24.145)           (32.744)\n",
      "PC2_lag_3                       -0.0018            -0.0062             0.0187            -0.0072\n",
      "                              (-0.4579)          (-1.5172)           (2.4517)          (-1.7095)\n",
      "PC3_lag_3                        0.0311            -0.0433             0.3711            -0.0599\n",
      "                               (2.3492)          (-3.0812)           (11.483)          (-4.1469)\n",
      "PC4_lag_3                        0.0516             0.1668            -0.4745             0.1924\n",
      "                               (3.9282)           (11.768)          (-11.914)           (13.184)\n",
      "PC5_lag_3                       -0.0757            -0.0333            -0.2692            -0.0239\n",
      "                              (-4.9379)          (-2.0230)          (-8.4196)          (-1.4080)\n",
      "log_population                   0.6954             0.7101             0.6283             0.7134\n",
      "                               (740.66)           (703.33)           (150.75)           (690.74)\n",
      "year                            -0.0014            -0.0014            -0.0011            -0.0014\n",
      "                              (-340.13)          (-321.25)          (-60.389)          (-314.00)\n",
      "month                           -0.0008            -0.0036             0.0121            -0.0042\n",
      "                              (-1.0739)          (-4.7678)           (6.7212)          (-5.4209)\n",
      "spring                           0.2330             0.6697            -1.7623             0.7669\n",
      "                               (37.557)           (71.634)          (-15.434)           (80.582)\n",
      "summer                           0.4952             1.4453            -3.8449             1.6567\n",
      "                               (55.582)           (84.542)          (-15.483)           (96.588)\n",
      "fall                             0.2579             0.7404            -1.9464             0.8477\n",
      "                               (35.432)           (69.385)          (-15.411)           (77.940)\n",
      "tavg                            -0.0269            -0.0802             0.2170            -0.0921\n",
      "                              (-69.458)          (-86.429)           (15.530)          (-99.131)\n",
      "==================== ================== ================== ================== ==================\n",
      "Instruments                                            lat               long                lat\n",
      "                                                                                            long\n",
      "------------------------------------------------------------------------------------------------\n",
      "\n",
      "T-stats reported in parentheses\n"
     ]
    },
    {
     "name": "stderr",
     "output_type": "stream",
     "text": [
      "/home/joosungm/venvs/py310/lib/python3.10/site-packages/linearmodels/iv/results.py:1474: FutureWarning: In a future version of pandas all arguments of concat except for the argument 'objs' will be keyword-only.\n",
      "  vals = concat(\n",
      "/home/joosungm/venvs/py310/lib/python3.10/site-packages/linearmodels/compat/pandas.py:43: FutureWarning: In a future version of pandas all arguments of concat except for the argument 'objs' will be keyword-only.\n",
      "  return pd.concat(*args, **kwargs)\n",
      "/home/joosungm/venvs/py310/lib/python3.10/site-packages/linearmodels/compat/pandas.py:43: FutureWarning: In a future version of pandas all arguments of concat except for the argument 'objs' will be keyword-only.\n",
      "  return pd.concat(*args, **kwargs)\n"
     ]
    }
   ],
   "source": [
    "# Perform IV analysis\n",
    "# - Here we fit 4 models:\n",
    "#   1. OLS\n",
    "#   2. IV with lat as instrument\n",
    "#   3. IV with long as instrument\n",
    "#   4. IV with both lat and long as instruments\n",
    "\n",
    "import statsmodels.formula.api as smf\n",
    "from linearmodels.iv import IV2SLS, IVGMMCUE\n",
    "from collections import OrderedDict\n",
    "from linearmodels.iv.results import compare\n",
    "\n",
    "iv_ols = IV2SLS(\n",
    "    dependent = example_df[\"log_production\"],\n",
    "    exog = example_df.loc[:, covariates + [\"tavg\"]],\n",
    "    endog = None,\n",
    "    instruments = None\n",
    ").fit()\n",
    "\n",
    "iv_lat = IV2SLS(\n",
    "    dependent = example_df[\"log_production\"],\n",
    "    exog = example_df.loc[:, covariates],\n",
    "    endog = example_df.loc[:, treatment],\n",
    "    instruments = example_df.loc[:, [\"lat\"]]\n",
    ").fit()\n",
    "\n",
    "iv_long = IV2SLS(\n",
    "    dependent = example_df[\"log_production\"],\n",
    "    exog = example_df.loc[:, covariates],\n",
    "    endog = example_df.loc[:, treatment],\n",
    "    instruments = example_df.loc[:, [\"long\"]]\n",
    ").fit()    \n",
    "\n",
    "iv_both = IV2SLS(\n",
    "    dependent = example_df[\"log_production\"],\n",
    "    exog = example_df.loc[:, covariates],\n",
    "    endog = example_df.loc[:, treatment],\n",
    "    instruments = example_df.loc[:, [\"lat\", \"long\"]],\n",
    ").fit()\n",
    "\n",
    "ivs = OrderedDict()\n",
    "ivs[\"ols\"] = iv_ols\n",
    "ivs[\"lat\"] = iv_lat\n",
    "ivs[\"long\"] = iv_long\n",
    "ivs[\"both\"] = iv_both\n",
    "\n",
    "print(compare(ivs))\n",
    "# The parentheses contain the T-stats."
   ]
  },
  {
   "cell_type": "code",
   "execution_count": 6,
   "metadata": {},
   "outputs": [
    {
     "name": "stdout",
     "output_type": "stream",
     "text": [
      "Wooldridge's score test of overidentification\n",
      "H0: Model is not overidentified.\n",
      "Statistic: 1581.7086\n",
      "P-value: 0.0000\n",
      "Distributed: chi2(1)\n"
     ]
    }
   ],
   "source": [
    "# Check the validity of the instruments\n",
    "\n",
    "# - Testing for overidentification.\n",
    "print(iv_both.wooldridge_overid)\n",
    "\n",
    "# Overidentification exists. One of lat or long appears to be endogenous.\n",
    "# - The similarity between the coefficient of tavg in OLS and iv_lat suggest that lat may be endogenous.\n",
    "#   Therefore, we will use \"long\" as our instrumental variable for tavg."
   ]
  },
  {
   "cell_type": "code",
   "execution_count": 62,
   "metadata": {},
   "outputs": [
    {
     "name": "stdout",
     "output_type": "stream",
     "text": [
      "Wu-Hausman test of exogeneity\n",
      "H0: All endogenous variables are exogenous\n",
      "Statistic: 1152.4718\n",
      "P-value: 0.0000\n",
      "Distributed: F(1,141101)\n"
     ]
    }
   ],
   "source": [
    "# - Testing for endogeneity of tavg\n",
    "# print(iv_lat.wu_hausman())\n",
    "print(iv_long.wu_hausman())\n",
    "# print(iv_both.wu_hausman())\n",
    "\n",
    "# The result shows that tavg is endogenous."
   ]
  },
  {
   "cell_type": "code",
   "execution_count": 24,
   "metadata": {},
   "outputs": [
    {
     "data": {
      "text/html": [
       "<div>\n",
       "<style scoped>\n",
       "    .dataframe tbody tr th:only-of-type {\n",
       "        vertical-align: middle;\n",
       "    }\n",
       "\n",
       "    .dataframe tbody tr th {\n",
       "        vertical-align: top;\n",
       "    }\n",
       "\n",
       "    .dataframe thead th {\n",
       "        text-align: right;\n",
       "    }\n",
       "</style>\n",
       "<table border=\"1\" class=\"dataframe\">\n",
       "  <thead>\n",
       "    <tr style=\"text-align: right;\">\n",
       "      <th></th>\n",
       "      <th>parameter</th>\n",
       "    </tr>\n",
       "  </thead>\n",
       "  <tbody>\n",
       "    <tr>\n",
       "      <th>PC1_lag_3</th>\n",
       "      <td>0.072915</td>\n",
       "    </tr>\n",
       "    <tr>\n",
       "      <th>PC2_lag_3</th>\n",
       "      <td>-0.006235</td>\n",
       "    </tr>\n",
       "    <tr>\n",
       "      <th>PC3_lag_3</th>\n",
       "      <td>-0.043300</td>\n",
       "    </tr>\n",
       "    <tr>\n",
       "      <th>PC4_lag_3</th>\n",
       "      <td>0.166764</td>\n",
       "    </tr>\n",
       "    <tr>\n",
       "      <th>PC5_lag_3</th>\n",
       "      <td>-0.033326</td>\n",
       "    </tr>\n",
       "    <tr>\n",
       "      <th>log_population</th>\n",
       "      <td>0.710084</td>\n",
       "    </tr>\n",
       "    <tr>\n",
       "      <th>year</th>\n",
       "      <td>-0.001420</td>\n",
       "    </tr>\n",
       "    <tr>\n",
       "      <th>month</th>\n",
       "      <td>-0.003581</td>\n",
       "    </tr>\n",
       "    <tr>\n",
       "      <th>spring</th>\n",
       "      <td>0.669740</td>\n",
       "    </tr>\n",
       "    <tr>\n",
       "      <th>summer</th>\n",
       "      <td>1.445329</td>\n",
       "    </tr>\n",
       "    <tr>\n",
       "      <th>fall</th>\n",
       "      <td>0.740386</td>\n",
       "    </tr>\n",
       "    <tr>\n",
       "      <th>tavg</th>\n",
       "      <td>-0.080244</td>\n",
       "    </tr>\n",
       "  </tbody>\n",
       "</table>\n",
       "</div>"
      ],
      "text/plain": [
       "                parameter\n",
       "PC1_lag_3        0.072915\n",
       "PC2_lag_3       -0.006235\n",
       "PC3_lag_3       -0.043300\n",
       "PC4_lag_3        0.166764\n",
       "PC5_lag_3       -0.033326\n",
       "log_population   0.710084\n",
       "year            -0.001420\n",
       "month           -0.003581\n",
       "spring           0.669740\n",
       "summer           1.445329\n",
       "fall             0.740386\n",
       "tavg            -0.080244"
      ]
     },
     "execution_count": 24,
     "metadata": {},
     "output_type": "execute_result"
    }
   ],
   "source": [
    "df = iv_lat.params.to_frame()\n",
    "df"
   ]
  },
  {
   "cell_type": "code",
   "execution_count": 25,
   "metadata": {},
   "outputs": [
    {
     "data": {
      "text/plain": [
       "-0.08024364617091706"
      ]
     },
     "execution_count": 25,
     "metadata": {},
     "output_type": "execute_result"
    }
   ],
   "source": [
    "df.loc[\"tavg\", \"parameter\"]"
   ]
  },
  {
   "cell_type": "code",
   "execution_count": 30,
   "metadata": {},
   "outputs": [
    {
     "name": "stdout",
     "output_type": "stream",
     "text": [
      "0.0\n",
      "1.1102230246251565e-16\n"
     ]
    }
   ],
   "source": [
    "iv_model = iv_both\n",
    "print(iv_model.wooldridge_overid.pval)\n",
    "print(iv_model.wu_hausman().pval)"
   ]
  },
  {
   "cell_type": "code",
   "execution_count": 34,
   "metadata": {},
   "outputs": [
    {
     "name": "stdout",
     "output_type": "stream",
     "text": [
      "-0.08024364617091706\n",
      "0.0\n"
     ]
    }
   ],
   "source": [
    "print(iv_lat.params[\"tavg\"])\n",
    "print(iv_lat.pvalues[\"tavg\"])"
   ]
  },
  {
   "cell_type": "code",
   "execution_count": 37,
   "metadata": {},
   "outputs": [
    {
     "name": "stdout",
     "output_type": "stream",
     "text": [
      "0.05339072615431739\n",
      "0.24389881580554196\n"
     ]
    }
   ],
   "source": [
    "lat_diff = np.abs(iv_ols.params[treatment] - iv_lat.params[treatment])\n",
    "long_diff = np.abs(iv_ols.params[treatment] - iv_long.params[treatment])\n",
    "print(lat_diff)\n",
    "print(long_diff)"
   ]
  },
  {
   "cell_type": "code",
   "execution_count": null,
   "metadata": {},
   "outputs": [],
   "source": []
  }
 ],
 "metadata": {
  "kernelspec": {
   "display_name": "py310-env",
   "language": "python",
   "name": "py310-env"
  },
  "language_info": {
   "codemirror_mode": {
    "name": "ipython",
    "version": 3
   },
   "file_extension": ".py",
   "mimetype": "text/x-python",
   "name": "python",
   "nbconvert_exporter": "python",
   "pygments_lexer": "ipython3",
   "version": "3.10.2"
  },
  "orig_nbformat": 4
 },
 "nbformat": 4,
 "nbformat_minor": 2
}
